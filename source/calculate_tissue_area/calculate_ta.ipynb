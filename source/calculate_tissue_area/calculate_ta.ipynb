{
 "cells": [
  {
   "cell_type": "code",
   "id": "initial_id",
   "metadata": {
    "collapsed": true,
    "ExecuteTime": {
     "end_time": "2024-10-08T18:31:09.388312Z",
     "start_time": "2024-10-08T18:31:09.383312Z"
    }
   },
   "source": [
    "from openslide import OpenSlide\n",
    "import numpy as np\n",
    "from PIL import Image\n",
    "from matplotlib import pyplot as plt\n",
    "import cv2"
   ],
   "outputs": [],
   "execution_count": 14
  },
  {
   "metadata": {
    "ExecuteTime": {
     "end_time": "2024-10-08T18:31:09.403590Z",
     "start_time": "2024-10-08T18:31:09.397276Z"
    }
   },
   "cell_type": "code",
   "source": "impath = r\"\\\\10.99.68.54\\Digital pathology image lib\\Alopecia_joel_sunshine\\AA001\\H\\BI4N7189_708.tif\"",
   "id": "8da0705d5a71cb60",
   "outputs": [],
   "execution_count": 15
  },
  {
   "metadata": {
    "ExecuteTime": {
     "end_time": "2024-10-08T18:31:09.480472Z",
     "start_time": "2024-10-08T18:31:09.421625Z"
    }
   },
   "cell_type": "code",
   "source": "image = OpenSlide(impath)",
   "id": "5a26395f9c0af60a",
   "outputs": [],
   "execution_count": 16
  },
  {
   "metadata": {},
   "cell_type": "code",
   "outputs": [],
   "execution_count": null,
   "source": "",
   "id": "1a137fa5e030c38a"
  },
  {
   "metadata": {
    "ExecuteTime": {
     "end_time": "2024-10-08T18:38:14.463623Z",
     "start_time": "2024-10-08T18:38:14.455626Z"
    }
   },
   "cell_type": "code",
   "source": [
    "pxsz = image.properties['openslide.mpp-x']\n",
    "pxsz"
   ],
   "id": "8f3e87b72c7647a8",
   "outputs": [
    {
     "data": {
      "text/plain": [
       "'0.46500000000000002'"
      ]
     },
     "execution_count": 38,
     "metadata": {},
     "output_type": "execute_result"
    }
   ],
   "execution_count": 38
  },
  {
   "metadata": {
    "ExecuteTime": {
     "end_time": "2024-10-08T18:31:09.511750Z",
     "start_time": "2024-10-08T18:31:09.498426Z"
    }
   },
   "cell_type": "code",
   "source": [
    "dims = image.level_dimensions\n",
    "dims"
   ],
   "id": "55f88a9c62ea18fe",
   "outputs": [
    {
     "data": {
      "text/plain": [
       "((24784, 36224),\n",
       " (12392, 18112),\n",
       " (6200, 9056),\n",
       " (3104, 4528),\n",
       " (1552, 2264),\n",
       " (776, 1136),\n",
       " (392, 568),\n",
       " (200, 288),\n",
       " (104, 144))"
      ]
     },
     "execution_count": 17,
     "metadata": {},
     "output_type": "execute_result"
    }
   ],
   "execution_count": 17
  },
  {
   "metadata": {
    "ExecuteTime": {
     "end_time": "2024-10-08T18:31:09.543223Z",
     "start_time": "2024-10-08T18:31:09.529704Z"
    }
   },
   "cell_type": "code",
   "source": "target_level = 3",
   "id": "6caf15fd48fc49ae",
   "outputs": [],
   "execution_count": 18
  },
  {
   "metadata": {
    "ExecuteTime": {
     "end_time": "2024-10-08T18:31:09.574333Z",
     "start_time": "2024-10-08T18:31:09.561189Z"
    }
   },
   "cell_type": "code",
   "source": [
    "dsf = dims[0][0]/dims[target_level][0]\n",
    "dsf"
   ],
   "id": "b477afe826a425af",
   "outputs": [
    {
     "data": {
      "text/plain": [
       "7.984536082474227"
      ]
     },
     "execution_count": 19,
     "metadata": {},
     "output_type": "execute_result"
    }
   ],
   "execution_count": 19
  },
  {
   "metadata": {
    "ExecuteTime": {
     "end_time": "2024-10-08T18:31:10.044434Z",
     "start_time": "2024-10-08T18:31:09.591289Z"
    }
   },
   "cell_type": "code",
   "source": "imobj = image.read_region(location=(0,0), level=target_level, size=dims[target_level])",
   "id": "992c974e85ea7e45",
   "outputs": [],
   "execution_count": 20
  },
  {
   "metadata": {
    "ExecuteTime": {
     "end_time": "2024-10-08T18:31:10.525181Z",
     "start_time": "2024-10-08T18:31:10.062388Z"
    }
   },
   "cell_type": "code",
   "source": [
    "I0=255\n",
    "imobj = np.array(imobj)\n",
    "intensity = np.mean(imobj, axis=2)\n",
    "intensity[intensity == 0] = 1e-10\n",
    "OD = -np.log10(intensity / I0)"
   ],
   "id": "b0fd8bb5f0e05bf5",
   "outputs": [],
   "execution_count": 21
  },
  {
   "metadata": {
    "ExecuteTime": {
     "end_time": "2024-10-08T18:31:10.849298Z",
     "start_time": "2024-10-08T18:31:10.542137Z"
    }
   },
   "cell_type": "code",
   "source": [
    "flat_data = OD.flatten()\n",
    "plt.hist(flat_data, bins=30, color='blue', alpha=0.7, edgecolor='black')\n",
    "plt.title('Histogram of 2D Array Values')\n",
    "plt.xlabel('Value')\n",
    "plt.ylabel('Frequency')\n",
    "plt.show()"
   ],
   "id": "fe664a7054a5d7d4",
   "outputs": [
    {
     "data": {
      "text/plain": [
       "<Figure size 640x480 with 1 Axes>"
      ],
      "image/png": "[encoded data removed]"
     },
     "metadata": {},
     "output_type": "display_data"
    }
   ],
   "execution_count": 22
  },
  {
   "metadata": {
    "ExecuteTime": {
     "end_time": "2024-10-08T18:31:10.895152Z",
     "start_time": "2024-10-08T18:31:10.867252Z"
    }
   },
   "cell_type": "code",
   "source": [
    "threshold = 0.05\n",
    "OD_binary = (OD >= threshold).astype(np.uint8)"
   ],
   "id": "17c8ccf0b48d347b",
   "outputs": [],
   "execution_count": 23
  },
  {
   "metadata": {
    "ExecuteTime": {
     "end_time": "2024-10-08T18:31:11.142644Z",
     "start_time": "2024-10-08T18:31:10.966104Z"
    }
   },
   "cell_type": "code",
   "source": "OD_binary_closed = cv2.morphologyEx(OD_binary, cv2.MORPH_CLOSE, kernel=cv2.getStructuringElement(cv2.MORPH_ELLIPSE,(30,30)))",
   "id": "f117b3249f263b55",
   "outputs": [],
   "execution_count": 24
  },
  {
   "metadata": {
    "ExecuteTime": {
     "end_time": "2024-10-08T18:31:12.880197Z",
     "start_time": "2024-10-08T18:31:11.147630Z"
    }
   },
   "cell_type": "code",
   "source": "OD_open = cv2.morphologyEx(OD_binary_closed, cv2.MORPH_OPEN, kernel=cv2.getStructuringElement(cv2.MORPH_ELLIPSE,(100,100)))",
   "id": "c3c0133be31dba95",
   "outputs": [],
   "execution_count": 25
  },
  {
   "metadata": {
    "ExecuteTime": {
     "end_time": "2024-10-08T18:31:24.318149Z",
     "start_time": "2024-10-08T18:31:24.301194Z"
    }
   },
   "cell_type": "code",
   "source": [
    "tissue_area = np.sum(OD_open)\n",
    "tissue_area"
   ],
   "id": "6b65a09f259fad15",
   "outputs": [
    {
     "data": {
      "text/plain": [
       "2263717"
      ]
     },
     "execution_count": 26,
     "metadata": {},
     "output_type": "execute_result"
    }
   ],
   "execution_count": 26
  },
  {
   "metadata": {
    "ExecuteTime": {
     "end_time": "2024-10-08T18:33:14.535713Z",
     "start_time": "2024-10-08T18:33:14.511776Z"
    }
   },
   "cell_type": "code",
   "source": [
    "num_labels, labels_im = cv2.connectedComponents(OD_open)\n",
    "num_labels"
   ],
   "id": "980da0bfcf47ac5d",
   "outputs": [
    {
     "data": {
      "text/plain": [
       "5"
      ]
     },
     "execution_count": 27,
     "metadata": {},
     "output_type": "execute_result"
    }
   ],
   "execution_count": 27
  },
  {
   "metadata": {
    "ExecuteTime": {
     "end_time": "2024-10-08T18:34:57.722228Z",
     "start_time": "2024-10-08T18:34:57.637045Z"
    }
   },
   "cell_type": "code",
   "source": [
    "areas = []\n",
    "for i in range(num_labels):\n",
    "    areas.append(np.sum(labels_im==i))"
   ],
   "id": "9837ed977a7c7815",
   "outputs": [],
   "execution_count": 31
  },
  {
   "metadata": {
    "ExecuteTime": {
     "end_time": "2024-10-08T18:34:59.968421Z",
     "start_time": "2024-10-08T18:34:59.960443Z"
    }
   },
   "cell_type": "code",
   "source": "areas",
   "id": "6a72daf0472d14d5",
   "outputs": [
    {
     "data": {
      "text/plain": [
       "[11791195, 618444, 506214, 630677, 508382]"
      ]
     },
     "execution_count": 32,
     "metadata": {},
     "output_type": "execute_result"
    }
   ],
   "execution_count": 32
  },
  {
   "metadata": {},
   "cell_type": "code",
   "outputs": [],
   "execution_count": null,
   "source": "",
   "id": "f3f6e1c81c5de08e"
  }
 ],
 "metadata": {
  "kernelspec": {
   "display_name": "Python 3",
   "language": "python",
   "name": "python3"
  },
  "language_info": {
   "codemirror_mode": {
    "name": "ipython",
    "version": 2
   },
   "file_extension": ".py",
   "mimetype": "text/x-python",
   "name": "python",
   "nbconvert_exporter": "python",
   "pygments_lexer": "ipython2",
   "version": "2.7.6"
  }
 },
 "nbformat": 4,
 "nbformat_minor": 5
}
